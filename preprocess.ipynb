{
 "cells": [
  {
   "cell_type": "code",
   "execution_count": 1,
   "metadata": {},
   "outputs": [],
   "source": [
    "import pandas as pd \n",
    "import numpy as np \n",
    "import os, glob"
   ]
  },
  {
   "cell_type": "code",
   "execution_count": 2,
   "metadata": {},
   "outputs": [],
   "source": [
    "total_data = []\n",
    "for file_name in sorted(glob.glob(\"/data/hyeonwoo/recsys2023/sharechat_recsys2023_data/train/*\")):\n",
    "    data = pd.read_csv(file_name, sep='\\t')\n",
    "    data[\"file_name\"] = file_name.split('/')[-1].split('.')[0]\n",
    "    total_data += [data]\n",
    "total_data = pd.concat(total_data)"
   ]
  },
  {
   "cell_type": "code",
   "execution_count": 3,
   "metadata": {},
   "outputs": [],
   "source": [
    "total_data.to_parquet(\"/data/hyeonwoo/recsys2023/sharechat_recsys2023_data/train/train.parquet\", index=False)"
   ]
  }
 ],
 "metadata": {
  "kernelspec": {
   "display_name": "Python 3.9.15 ('otto')",
   "language": "python",
   "name": "python3"
  },
  "language_info": {
   "codemirror_mode": {
    "name": "ipython",
    "version": 3
   },
   "file_extension": ".py",
   "mimetype": "text/x-python",
   "name": "python",
   "nbconvert_exporter": "python",
   "pygments_lexer": "ipython3",
   "version": "3.9.15"
  },
  "orig_nbformat": 4,
  "vscode": {
   "interpreter": {
    "hash": "4286cecf0ea97df2b3aebfead79c37517a926b9244c55844bda76b884b37d7d7"
   }
  }
 },
 "nbformat": 4,
 "nbformat_minor": 2
}
